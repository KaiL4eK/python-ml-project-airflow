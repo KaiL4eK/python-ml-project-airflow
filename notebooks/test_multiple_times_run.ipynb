{
 "cells": [
  {
   "cell_type": "markdown",
   "metadata": {},
   "source": [
    "# Description\n",
    "\n",
    "Notebook to overload Airflow"
   ]
  },
  {
   "cell_type": "code",
   "execution_count": null,
   "metadata": {},
   "outputs": [],
   "source": [
    "import base64\n",
    "from concurrent.futures import ThreadPoolExecutor, as_completed\n",
    "\n",
    "import requests"
   ]
  },
  {
   "cell_type": "code",
   "execution_count": null,
   "metadata": {},
   "outputs": [],
   "source": [
    "# Параметры доступа и конфигурация\n",
    "AIRFLOW_HOST = \"localhost\"\n",
    "AIRFLOW_PORT = 8080\n",
    "DAG_ID = \"simple-dag-1\"\n",
    "AIRFLOW_USER = \"airflow\"\n",
    "# Just a dummy one\n",
    "AIRFLOW_PASSWORD = \"airflow\"  # noqa: S105\n",
    "\n",
    "# Формируем Basic-авторизацию\n",
    "auth_str = f\"{AIRFLOW_USER}:{AIRFLOW_PASSWORD}\"\n",
    "b64_auth_str = base64.b64encode(auth_str.encode()).decode()\n",
    "\n",
    "headers = {\n",
    "    \"Authorization\": f\"Basic {b64_auth_str}\",\n",
    "    \"Content-Type\": \"application/json\",\n",
    "    \"Accept\": \"application/json\",\n",
    "}"
   ]
  },
  {
   "cell_type": "code",
   "execution_count": null,
   "metadata": {},
   "outputs": [],
   "source": [
    "url = f\"http://{AIRFLOW_HOST}:{AIRFLOW_PORT}/api/v1/dags/{DAG_ID}/dagRuns\""
   ]
  },
  {
   "cell_type": "code",
   "execution_count": null,
   "metadata": {},
   "outputs": [],
   "source": [
    "def trigger_dag_run(i: int):\n",
    "    \"\"\"\n",
    "    Функция, запускающая одну итерацию запроса к Airflow.\n",
    "\n",
    "    Возвращает кортеж (номер, статус_успеха, код_статуса, текст_ответа).\n",
    "    \"\"\"\n",
    "    payload = {}\n",
    "\n",
    "    response = requests.post(url, headers=headers, json=payload)\n",
    "    success = response.status_code in (200, 201)\n",
    "\n",
    "    return i, success, response.status_code, response.text"
   ]
  },
  {
   "cell_type": "code",
   "execution_count": null,
   "metadata": {},
   "outputs": [],
   "source": [
    "with ThreadPoolExecutor(max_workers=100) as executor:\n",
    "    # Запускаем 100 заданий на отправку запросов\n",
    "    futures = [executor.submit(trigger_dag_run, i) for i in range(1, 101)]\n",
    "\n",
    "    # По мере готовности результатов обрабатываем их\n",
    "    for future in as_completed(futures):\n",
    "        i, success, status_code, resp_text = future.result()\n",
    "        if success:\n",
    "            print(f\"Запуск #{i} успешно отправлен (Status {status_code}).\")\n",
    "        else:\n",
    "            print(\n",
    "                f\"Запуск #{i} завершился ошибкой (Status {status_code}). \"\n",
    "                f\"Ответ: {resp_text}\",\n",
    "            )"
   ]
  },
  {
   "cell_type": "code",
   "execution_count": null,
   "metadata": {},
   "outputs": [],
   "source": []
  }
 ],
 "metadata": {
  "kernelspec": {
   "display_name": ".venv",
   "language": "python",
   "name": "python3"
  },
  "language_info": {
   "codemirror_mode": {
    "name": "ipython",
    "version": 3
   },
   "file_extension": ".py",
   "mimetype": "text/x-python",
   "name": "python",
   "nbconvert_exporter": "python",
   "pygments_lexer": "ipython3",
   "version": "3.9.19"
  }
 },
 "nbformat": 4,
 "nbformat_minor": 2
}
